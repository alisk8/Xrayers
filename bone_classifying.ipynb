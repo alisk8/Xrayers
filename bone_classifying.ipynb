{
 "metadata": {
  "language_info": {
   "codemirror_mode": {
    "name": "ipython",
    "version": 3
   },
   "file_extension": ".py",
   "mimetype": "text/x-python",
   "name": "python",
   "nbconvert_exporter": "python",
   "pygments_lexer": "ipython3",
   "version": "3.8.3"
  },
  "orig_nbformat": 4,
  "kernelspec": {
   "name": "python3",
   "display_name": "Python 3.8.3 64-bit ('base': conda)"
  },
  "interpreter": {
   "hash": "7a566008060a72e11a361daa5708fd3231c0fb0c8396e128457dcbcc2fa69cb5"
  }
 },
 "nbformat": 4,
 "nbformat_minor": 2,
 "cells": [
  {
   "cell_type": "code",
   "execution_count": 1,
   "metadata": {},
   "outputs": [],
   "source": [
    "import tensorflow as tf\n",
    "import matplotlib.pyplot as plt\n",
    "import cv2 \n",
    "import os\n",
    "import numpy as np \n",
    "from tensorflow.keras.preprocessing.image import ImageDataGenerator\n",
    "from tensorflow.keras.preprocessing import image \n",
    "from tensorflow.keras.optimizers import RMSprop"
   ]
  },
  {
   "cell_type": "code",
   "execution_count": 2,
   "metadata": {},
   "outputs": [],
   "source": [
    "train = ImageDataGenerator(rescale=1/16)\n",
    "validation = ImageDataGenerator(rescale=1/16)"
   ]
  },
  {
   "cell_type": "code",
   "execution_count": 3,
   "metadata": {},
   "outputs": [
    {
     "output_type": "stream",
     "name": "stdout",
     "text": [
      "Found 46 images belonging to 2 classes.\nFound 9 images belonging to 2 classes.\n"
     ]
    }
   ],
   "source": [
    "train_dataset=train.flow_from_directory(\"C:/Users/alish/OneDrive/Desktop/Base_Data/training\" , target_size=(200,200) , batch_size = 3, class_mode=\"binary\")\n",
    "validation_dataset=validation.flow_from_directory(\"C:/Users/alish/OneDrive/Desktop/Base_Data/validation\" , target_size=(200,200) , batch_size = 3, class_mode=\"binary\")"
   ]
  },
  {
   "cell_type": "code",
   "execution_count": 4,
   "metadata": {},
   "outputs": [
    {
     "output_type": "execute_result",
     "data": {
      "text/plain": [
       "{'broken': 0, 'non-broken': 1}"
      ]
     },
     "metadata": {},
     "execution_count": 4
    }
   ],
   "source": [
    "train_dataset.class_indices"
   ]
  },
  {
   "cell_type": "code",
   "execution_count": 5,
   "metadata": {},
   "outputs": [],
   "source": [
    "model=tf.keras.models.Sequential([\n",
    "    tf.keras.layers.Conv2D(16, (3,3) , activation=\"relu\" , input_shape=(200,200,3)) , \n",
    "    tf.keras.layers.MaxPool2D(2 , 2) ,\n",
    "    #\n",
    "    tf.keras.layers.Conv2D(32, (3,3) , activation=\"relu\") , \n",
    "    tf.keras.layers.MaxPool2D(2 , 2) ,\n",
    "    #\n",
    "    tf.keras.layers.Conv2D(64, (3,3) , activation=\"relu\") , \n",
    "    tf.keras.layers.MaxPool2D(2 , 2) ,\n",
    "    ##\n",
    "    tf.keras.layers.Flatten() , \n",
    "    ##\n",
    "    tf.keras.layers.Dense(512 , activation = \"relu\") , \n",
    "    ##\n",
    "    tf.keras.layers.Dense(1 , activation = \"sigmoid\") \n",
    "])"
   ]
  },
  {
   "cell_type": "code",
   "execution_count": 6,
   "metadata": {},
   "outputs": [],
   "source": [
    "model.compile(loss = \"binary_crossentropy\"  , \n",
    "    optimizer = RMSprop(learning_rate=  0.001) ,\n",
    "    metrics = [\"accuracy\"])"
   ]
  },
  {
   "cell_type": "code",
   "execution_count": 7,
   "metadata": {},
   "outputs": [
    {
     "output_type": "stream",
     "name": "stdout",
     "text": [
      "Epoch 1/50\n",
      "3/3 [==============================] - 2s 603ms/step - loss: 246.3695 - accuracy: 0.4286 - val_loss: 44.6456 - val_accuracy: 0.5556\n",
      "Epoch 2/50\n",
      "3/3 [==============================] - 1s 240ms/step - loss: 26.4529 - accuracy: 0.5556 - val_loss: 13.3344 - val_accuracy: 0.5556\n",
      "Epoch 3/50\n",
      "3/3 [==============================] - 1s 244ms/step - loss: 14.4663 - accuracy: 0.6667 - val_loss: 2.9799 - val_accuracy: 0.5556\n",
      "Epoch 4/50\n",
      "3/3 [==============================] - 1s 235ms/step - loss: 1.6897 - accuracy: 0.5556 - val_loss: 1.1848 - val_accuracy: 0.5556\n",
      "Epoch 5/50\n",
      "3/3 [==============================] - 1s 231ms/step - loss: 0.6765 - accuracy: 0.7778 - val_loss: 0.8702 - val_accuracy: 0.6667\n",
      "Epoch 6/50\n",
      "3/3 [==============================] - 1s 247ms/step - loss: 0.5891 - accuracy: 0.8889 - val_loss: 0.2288 - val_accuracy: 1.0000\n",
      "Epoch 7/50\n",
      "3/3 [==============================] - 1s 237ms/step - loss: 0.2709 - accuracy: 0.7778 - val_loss: 0.3860 - val_accuracy: 0.7778\n",
      "Epoch 8/50\n",
      "3/3 [==============================] - 1s 237ms/step - loss: 0.1011 - accuracy: 1.0000 - val_loss: 0.4129 - val_accuracy: 0.7778\n",
      "Epoch 9/50\n",
      "3/3 [==============================] - 1s 225ms/step - loss: 0.0066 - accuracy: 1.0000 - val_loss: 0.5524 - val_accuracy: 0.8889\n",
      "Epoch 10/50\n",
      "3/3 [==============================] - 1s 242ms/step - loss: 1.8844 - accuracy: 0.6667 - val_loss: 0.5159 - val_accuracy: 0.7778\n",
      "Epoch 11/50\n",
      "3/3 [==============================] - 1s 233ms/step - loss: 0.6452 - accuracy: 0.7778 - val_loss: 0.2505 - val_accuracy: 0.8889\n",
      "Epoch 12/50\n",
      "3/3 [==============================] - 1s 229ms/step - loss: 0.2841 - accuracy: 0.7778 - val_loss: 0.2905 - val_accuracy: 0.7778\n",
      "Epoch 13/50\n",
      "3/3 [==============================] - 1s 240ms/step - loss: 1.0987 - accuracy: 0.8889 - val_loss: 0.1809 - val_accuracy: 0.8889\n",
      "Epoch 14/50\n",
      "3/3 [==============================] - 1s 256ms/step - loss: 0.1404 - accuracy: 1.0000 - val_loss: 0.1667 - val_accuracy: 0.8889\n",
      "Epoch 15/50\n",
      "3/3 [==============================] - 1s 232ms/step - loss: 0.1272 - accuracy: 1.0000 - val_loss: 0.1301 - val_accuracy: 1.0000\n",
      "Epoch 16/50\n",
      "3/3 [==============================] - 1s 217ms/step - loss: 0.1313 - accuracy: 0.8889 - val_loss: 0.1205 - val_accuracy: 0.8889\n",
      "Epoch 17/50\n",
      "3/3 [==============================] - 1s 235ms/step - loss: 0.0695 - accuracy: 1.0000 - val_loss: 0.1671 - val_accuracy: 0.8889\n",
      "Epoch 18/50\n",
      "3/3 [==============================] - 1s 183ms/step - loss: 0.3468 - accuracy: 0.8571 - val_loss: 0.2565 - val_accuracy: 0.8889\n",
      "Epoch 19/50\n",
      "3/3 [==============================] - 1s 228ms/step - loss: 0.0213 - accuracy: 1.0000 - val_loss: 0.3471 - val_accuracy: 0.8889\n",
      "Epoch 20/50\n",
      "3/3 [==============================] - 1s 225ms/step - loss: 3.3265 - accuracy: 0.4444 - val_loss: 1.4102 - val_accuracy: 0.7778\n",
      "Epoch 21/50\n",
      "3/3 [==============================] - 1s 228ms/step - loss: 0.7366 - accuracy: 0.7778 - val_loss: 0.0445 - val_accuracy: 1.0000\n",
      "Epoch 22/50\n",
      "3/3 [==============================] - 1s 216ms/step - loss: 0.0373 - accuracy: 1.0000 - val_loss: 0.2631 - val_accuracy: 0.8889\n",
      "Epoch 23/50\n",
      "3/3 [==============================] - 1s 196ms/step - loss: 0.4594 - accuracy: 0.8571 - val_loss: 0.1396 - val_accuracy: 0.8889\n",
      "Epoch 24/50\n",
      "3/3 [==============================] - 1s 211ms/step - loss: 0.0484 - accuracy: 1.0000 - val_loss: 0.0134 - val_accuracy: 1.0000\n",
      "Epoch 25/50\n",
      "3/3 [==============================] - 1s 233ms/step - loss: 0.0459 - accuracy: 1.0000 - val_loss: 0.1137 - val_accuracy: 1.0000\n",
      "Epoch 26/50\n",
      "3/3 [==============================] - 1s 241ms/step - loss: 0.0024 - accuracy: 1.0000 - val_loss: 0.0778 - val_accuracy: 1.0000\n",
      "Epoch 27/50\n",
      "3/3 [==============================] - 1s 234ms/step - loss: 0.0048 - accuracy: 1.0000 - val_loss: 0.0365 - val_accuracy: 1.0000\n",
      "Epoch 28/50\n",
      "3/3 [==============================] - 1s 231ms/step - loss: 0.6090 - accuracy: 0.8571 - val_loss: 0.3633 - val_accuracy: 0.8889\n",
      "Epoch 29/50\n",
      "3/3 [==============================] - 1s 241ms/step - loss: 9.9378 - accuracy: 0.4444 - val_loss: 0.0968 - val_accuracy: 0.8889\n",
      "Epoch 30/50\n",
      "3/3 [==============================] - 1s 252ms/step - loss: 0.6364 - accuracy: 0.7778 - val_loss: 0.2767 - val_accuracy: 0.8889\n",
      "Epoch 31/50\n",
      "3/3 [==============================] - 1s 216ms/step - loss: 0.5796 - accuracy: 0.7143 - val_loss: 0.1047 - val_accuracy: 1.0000\n",
      "Epoch 32/50\n",
      "3/3 [==============================] - 1s 240ms/step - loss: 0.0234 - accuracy: 1.0000 - val_loss: 0.0206 - val_accuracy: 1.0000\n",
      "Epoch 33/50\n",
      "3/3 [==============================] - 1s 205ms/step - loss: 0.0455 - accuracy: 1.0000 - val_loss: 0.0259 - val_accuracy: 1.0000\n",
      "Epoch 34/50\n",
      "3/3 [==============================] - 1s 208ms/step - loss: 0.0866 - accuracy: 1.0000 - val_loss: 0.0065 - val_accuracy: 1.0000\n",
      "Epoch 35/50\n",
      "3/3 [==============================] - 1s 231ms/step - loss: 0.0067 - accuracy: 1.0000 - val_loss: 0.0060 - val_accuracy: 1.0000\n",
      "Epoch 36/50\n",
      "3/3 [==============================] - 1s 194ms/step - loss: 0.0013 - accuracy: 1.0000 - val_loss: 0.0058 - val_accuracy: 1.0000\n",
      "Epoch 37/50\n",
      "3/3 [==============================] - 1s 218ms/step - loss: 0.0843 - accuracy: 0.8889 - val_loss: 0.0082 - val_accuracy: 1.0000\n",
      "Epoch 38/50\n",
      "3/3 [==============================] - 1s 233ms/step - loss: 0.1010 - accuracy: 0.8889 - val_loss: 0.0076 - val_accuracy: 1.0000\n",
      "Epoch 39/50\n",
      "3/3 [==============================] - 1s 201ms/step - loss: 0.0129 - accuracy: 1.0000 - val_loss: 0.0018 - val_accuracy: 1.0000\n",
      "Epoch 40/50\n",
      "3/3 [==============================] - 1s 207ms/step - loss: 0.0017 - accuracy: 1.0000 - val_loss: 0.0015 - val_accuracy: 1.0000\n",
      "Epoch 41/50\n",
      "3/3 [==============================] - 1s 235ms/step - loss: 0.0014 - accuracy: 1.0000 - val_loss: 8.1309e-04 - val_accuracy: 1.0000\n",
      "Epoch 42/50\n",
      "3/3 [==============================] - 1s 232ms/step - loss: 0.0011 - accuracy: 1.0000 - val_loss: 6.7065e-04 - val_accuracy: 1.0000\n",
      "Epoch 43/50\n",
      "3/3 [==============================] - 1s 242ms/step - loss: 1.3050 - accuracy: 0.8889 - val_loss: 0.0011 - val_accuracy: 1.0000\n",
      "Epoch 44/50\n",
      "3/3 [==============================] - 1s 245ms/step - loss: 0.0052 - accuracy: 1.0000 - val_loss: 0.0654 - val_accuracy: 1.0000\n",
      "Epoch 45/50\n",
      "3/3 [==============================] - 1s 241ms/step - loss: 0.0038 - accuracy: 1.0000 - val_loss: 0.4730 - val_accuracy: 0.7778\n",
      "Epoch 46/50\n",
      "3/3 [==============================] - 1s 231ms/step - loss: 0.0378 - accuracy: 1.0000 - val_loss: 0.0065 - val_accuracy: 1.0000\n",
      "Epoch 47/50\n",
      "3/3 [==============================] - 1s 231ms/step - loss: 6.1662e-05 - accuracy: 1.0000 - val_loss: 0.0062 - val_accuracy: 1.0000\n",
      "Epoch 48/50\n",
      "3/3 [==============================] - 1s 224ms/step - loss: 1.5513e-05 - accuracy: 1.0000 - val_loss: 0.0060 - val_accuracy: 1.0000\n",
      "Epoch 49/50\n",
      "3/3 [==============================] - 1s 222ms/step - loss: 2.2637e-04 - accuracy: 1.0000 - val_loss: 0.0069 - val_accuracy: 1.0000\n",
      "Epoch 50/50\n",
      "3/3 [==============================] - 1s 219ms/step - loss: 7.2799e-04 - accuracy: 1.0000 - val_loss: 0.0061 - val_accuracy: 1.0000\n"
     ]
    }
   ],
   "source": [
    "model_fit = model.fit(train_dataset , steps_per_epoch= 3 , epochs = 50 , validation_data = validation_dataset)"
   ]
  },
  {
   "cell_type": "code",
   "execution_count": 8,
   "metadata": {},
   "outputs": [
    {
     "output_type": "execute_result",
     "data": {
      "text/plain": [
       "{'broken': 0, 'non-broken': 1}"
      ]
     },
     "metadata": {},
     "execution_count": 8
    }
   ],
   "source": [
    "validation_dataset.class_indices"
   ]
  },
  {
   "cell_type": "code",
   "execution_count": 20,
   "metadata": {},
   "outputs": [],
   "source": [
    "# dir_path = \"C:/Users/alish/OneDrive/Desktop/Base_Data/testing\"\n",
    "# for i in os.listdir(dir_path ):\n",
    "#     img = image.load_img(dir_path + \"//\" + i , target_size=(200, 200))\n",
    "#     plt.imshow(img)\n",
    "#     plt.show()\n",
    "\n",
    "#     x = image.img_to_array(img)\n",
    "#     x = np.expand_dims(x , axis = 0)\n",
    "#     images = np.vstack([x])\n",
    "    \n",
    "#     val = model.predict(images)\n",
    "#     if val == 0:\n",
    "#         print(\"bone is broken\")\n",
    "#     else : \n",
    "#         print(\"bone is not broken\")"
   ]
  },
  {
   "cell_type": "code",
   "execution_count": 10,
   "metadata": {},
   "outputs": [],
   "source": [
    "model.save('bone_classification_model.h5')"
   ]
  },
  {
   "cell_type": "code",
   "execution_count": null,
   "metadata": {},
   "outputs": [],
   "source": []
  }
 ]
}